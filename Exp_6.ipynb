{
  "nbformat": 4,
  "nbformat_minor": 0,
  "metadata": {
    "colab": {
      "provenance": []
    },
    "kernelspec": {
      "name": "python3",
      "display_name": "Python 3"
    },
    "language_info": {
      "name": "python"
    }
  },
  "cells": [
    {
      "cell_type": "code",
      "source": [
        "import pandas as pd\n",
        "from sklearn.preprocessing import OneHotEncoder\n",
        "\n",
        "# Sample Data\n",
        "data = {\n",
        "    'Employee id': [10, 20, 15, 25, 30],\n",
        "    'Gender': ['M', 'F', 'F', 'M', 'F'],\n",
        "    'Remarks': ['Good', 'Nice', 'Good', 'Great', 'Nice']\n",
        "}\n",
        "\n",
        "df = pd.DataFrame(data)\n",
        "print(f\"Original Employee Data:\\n{df}\\n\")\n",
        "\n",
        "# Using Pandas get_dummies()\n",
        "df_pandas_encoded = pd.get_dummies(df, columns=['Gender', 'Remarks'], drop_first=True)\n",
        "print(f\"One-Hot Encoded Data using Pandas:\\n{df_pandas_encoded}\\n\")\n",
        "\n",
        "# Define categorical columns (IMPORTANT: Define before using it!)\n",
        "categorical_columns = ['Gender', 'Remarks']\n",
        "\n",
        "# Initialize OneHotEncoder\n",
        "encoder = OneHotEncoder(drop='first', sparse_output=False)  # drop='first' to match pandas'\n",
        "\n",
        "# Fit and transform categorical data\n",
        "one_hot_encoded = encoder.fit_transform(df[categorical_columns])\n",
        "\n",
        "# Create a DataFrame with the new columns\n",
        "one_hot_df = pd.DataFrame(one_hot_encoded, columns=encoder.get_feature_names_out(categorical_columns))\n",
        "\n",
        "# Concatenate the encoded data with the original DataFrame (excluding the original categorical columns)\n",
        "df_sklearn_encoded = pd.concat([df.drop(categorical_columns, axis=1), one_hot_df], axis=1)\n",
        "\n",
        "print(f\"One-Hot Encoded Data using Scikit-Learn:\\n{df_sklearn_encoded}\\n\")\n"
      ],
      "metadata": {
        "colab": {
          "base_uri": "https://localhost:8080/"
        },
        "id": "JDgKd4k1IbT4",
        "outputId": "b6637603-f8e0-476e-b6c2-b8cf75bb9e19"
      },
      "execution_count": 7,
      "outputs": [
        {
          "output_type": "stream",
          "name": "stdout",
          "text": [
            "Original Employee Data:\n",
            "   Employee id Gender Remarks\n",
            "0           10      M    Good\n",
            "1           20      F    Nice\n",
            "2           15      F    Good\n",
            "3           25      M   Great\n",
            "4           30      F    Nice\n",
            "\n",
            "One-Hot Encoded Data using Pandas:\n",
            "   Employee id  Gender_M  Remarks_Great  Remarks_Nice\n",
            "0           10      True          False         False\n",
            "1           20     False          False          True\n",
            "2           15     False          False         False\n",
            "3           25      True           True         False\n",
            "4           30     False          False          True\n",
            "\n",
            "One-Hot Encoded Data using Scikit-Learn:\n",
            "   Employee id  Gender_M  Remarks_Great  Remarks_Nice\n",
            "0           10       1.0            0.0           0.0\n",
            "1           20       0.0            0.0           1.0\n",
            "2           15       0.0            0.0           0.0\n",
            "3           25       1.0            1.0           0.0\n",
            "4           30       0.0            0.0           1.0\n",
            "\n"
          ]
        }
      ]
    }
  ]
}