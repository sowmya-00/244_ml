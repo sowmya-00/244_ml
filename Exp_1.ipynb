{
  "nbformat": 4,
  "nbformat_minor": 0,
  "metadata": {
    "colab": {
      "provenance": []
    },
    "kernelspec": {
      "name": "python3",
      "display_name": "Python 3"
    },
    "language_info": {
      "name": "python"
    }
  },
  "cells": [
    {
      "cell_type": "code",
      "source": [
        "import pandas as pd\n",
        "import numpy as np\n",
        "\n",
        "# 2. Reading the Data\n",
        "data = pd.read_csv('/simpledata (1).csv')\n",
        "print(\"Data:\\n\", data)\n",
        "\n",
        "# 3. Separating Features and Target Variable\n",
        "concepts = np.array(data)[:, :-1]  # Features (all columns except the last one)\n",
        "print(\"Concepts (Features):\\n\", concepts)\n",
        "\n",
        "target = np.array(data)[:, -1]  # Target (last column)\n",
        "print(\"Target:\\n\", target)\n",
        "\n",
        "# 4. Train Function (Find-S Algorithm)\n",
        "def train(con, tar):\n",
        "    # Initialize the most specific hypothesis with the first positive example\n",
        "    specific_h = con[0].copy() if tar[0] == 'yes' else None\n",
        "\n",
        "    for i, val in enumerate(tar):\n",
        "        if val == 'yes':\n",
        "            for j in range(len(specific_h)):\n",
        "                # Update specific hypothesis with each positive example\n",
        "                if specific_h[j] != con[i][j]:\n",
        "                    specific_h[j] = '?'\n",
        "    return specific_h\n",
        "\n",
        "# 6. Running the Algorithm and Printing the Result\n",
        "print(\"Most Specific Hypothesis:\\n\", train(concepts, target))\n"
      ],
      "metadata": {
        "colab": {
          "base_uri": "https://localhost:8080/"
        },
        "id": "KRd-EtGuJKpf",
        "outputId": "e2abb042-e210-4c2e-c632-7f9ce8fd1016"
      },
      "execution_count": 10,
      "outputs": [
        {
          "output_type": "stream",
          "name": "stdout",
          "text": [
            "Data:\n",
            "     Outlook Temperature Humidity    Wind PlayTennis\n",
            "0     Sunny         Hot     High    Weak         No\n",
            "1     Sunny         Hot     High  Strong         No\n",
            "2  Overcast         Hot     High    Weak        Yes\n",
            "3     Rainy        Mild     High    Weak        Yes\n",
            "4     Rainy        Cool   Normal  Strong         No\n",
            "Concepts (Features):\n",
            " [['Sunny' 'Hot' 'High' 'Weak']\n",
            " ['Sunny' 'Hot' 'High' 'Strong']\n",
            " ['Overcast' 'Hot' 'High' 'Weak']\n",
            " ['Rainy' 'Mild' 'High' 'Weak']\n",
            " ['Rainy' 'Cool' 'Normal' 'Strong']]\n",
            "Target:\n",
            " ['No' 'No' 'Yes' 'Yes' 'No']\n",
            "Most Specific Hypothesis:\n",
            " None\n"
          ]
        }
      ]
    }
  ]
}