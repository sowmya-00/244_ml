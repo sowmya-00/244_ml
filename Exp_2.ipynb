{
  "nbformat": 4,
  "nbformat_minor": 0,
  "metadata": {
    "colab": {
      "provenance": []
    },
    "kernelspec": {
      "name": "python3",
      "display_name": "Python 3"
    },
    "language_info": {
      "name": "python"
    }
  },
  "cells": [
    {
      "cell_type": "code",
      "source": [
        "import pandas as pd\n",
        "\n",
        "# Load the dataset\n",
        "data = pd.read_csv(\"/simpledata (1).csv\")\n",
        "\n",
        "# Extract features and target\n",
        "attributes = data.columns[:-1]\n",
        "target = data.columns[-1]\n",
        "\n",
        "# Initialize specific and general hypotheses\n",
        "specific_h = ['0'] * len(attributes)\n",
        "general_h = [['?'] * len(attributes)]\n",
        "\n",
        "# Candidate Elimination Algorithm\n",
        "def candidate_elimination(data):\n",
        "    global specific_h, general_h\n",
        "\n",
        "    for i in range(len(data)):\n",
        "        instance = data.iloc[i]\n",
        "        if instance[target] == 'Yes':\n",
        "            for j in range(len(attributes)):\n",
        "                if specific_h[j] == '0':\n",
        "                    specific_h[j] = instance[attributes[j]]\n",
        "                elif specific_h[j] != instance[attributes[j]]:\n",
        "                    specific_h[j] = '?'\n",
        "\n",
        "            general_h = [h for h in general_h if all(\n",
        "                h[j] == '?' or h[j] == specific_h[j] for j in range(len(attributes)))]\n",
        "        else:\n",
        "            for j in range(len(attributes)):\n",
        "                if specific_h[j] != '?' and specific_h[j] != instance[attributes[j]]:\n",
        "                    h = ['?'] * len(attributes)\n",
        "                    h[j] = specific_h[j]\n",
        "                    general_h.append(h)\n",
        "\n",
        "            general_h = [h for h in general_h if not all(\n",
        "                h[j] == '?' or h[j] == instance[attributes[j]] for j in range(len(attributes)))]\n",
        "\n",
        "    general_h = [h for h in general_h if any(val != '?' for val in h)]\n",
        "    return specific_h, general_h\n",
        "\n",
        "# Run the algorithm\n",
        "specific_hypothesis, general_hypotheses = candidate_elimination(data)\n",
        "\n",
        "# Output the results\n",
        "print(\"Specific Hypothesis:\", specific_hypothesis)\n",
        "print(\"General Hypotheses:\", general_hypotheses)\n"
      ],
      "metadata": {
        "id": "XNVjtP0NKFq3"
      },
      "execution_count": null,
      "outputs": []
    }
  ]
}