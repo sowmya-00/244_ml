{
  "nbformat": 4,
  "nbformat_minor": 0,
  "metadata": {
    "colab": {
      "provenance": []
    },
    "kernelspec": {
      "name": "python3",
      "display_name": "Python 3"
    },
    "language_info": {
      "name": "python"
    }
  },
  "cells": [
    {
      "cell_type": "code",
      "source": [
        "# Import necessary libraries\n",
        "from sklearn import datasets\n",
        "from sklearn.model_selection import train_test_split\n",
        "from sklearn.neighbors import KNeighborsClassifier\n",
        "from sklearn.metrics import accuracy_score\n",
        "\n",
        "# Load the Iris dataset\n",
        "iris = datasets.load_iris()\n",
        "X = iris.data\n",
        "y = iris.target\n",
        "\n",
        "# Split the dataset into training and testing sets\n",
        "X_train, X_test, y_train, y_test = train_test_split(X, y, test_size=0.3, random_state=42)\n",
        "\n",
        "# Initialize the k-NN classifier with a specified k value (e.g., k=3)\n",
        "knn = KNeighborsClassifier(n_neighbors=3)\n",
        "\n",
        "# Fit the classifier to the training data\n",
        "knn.fit(X_train, y_train)\n",
        "\n",
        "# Make predictions on the test data\n",
        "y_pred = knn.predict(X_test)\n",
        "\n",
        "# Print correct and wrong predictions\n",
        "correct_predictions = 0\n",
        "wrong_predictions = 0\n",
        "\n",
        "for i in range(len(y_test)):\n",
        "    if y_pred[i] == y_test[i]:\n",
        "        print(f\"Correct Prediction: Actual Class {y_test[i]}, Predicted Class {y_pred[i]}\")\n",
        "        correct_predictions += 1\n",
        "    else:\n",
        "        print(f\"Wrong Prediction: Actual Class {y_test[i]}, Predicted Class {y_pred[i]}\")\n",
        "        wrong_predictions += 1\n",
        "\n",
        "# Calculate and print the accuracy of the k-NN classifier\n",
        "accuracy = accuracy_score(y_test, y_pred)\n",
        "print(f\"\\nAccuracy: {accuracy * 100:.2f}%\")\n",
        "print(f\"Correct Predictions: {correct_predictions}\")\n",
        "print(f\"Wrong Predictions: {wrong_predictions}\")\n"
      ],
      "metadata": {
        "colab": {
          "base_uri": "https://localhost:8080/"
        },
        "id": "oKKJbxdaGsV3",
        "outputId": "77cf3646-e744-4926-9941-8e16169ea1f8"
      },
      "execution_count": 8,
      "outputs": [
        {
          "output_type": "stream",
          "name": "stdout",
          "text": [
            "Correct Prediction: Actual Class 1, Predicted Class 1\n",
            "Correct Prediction: Actual Class 0, Predicted Class 0\n",
            "Correct Prediction: Actual Class 2, Predicted Class 2\n",
            "Correct Prediction: Actual Class 1, Predicted Class 1\n",
            "Correct Prediction: Actual Class 1, Predicted Class 1\n",
            "Correct Prediction: Actual Class 0, Predicted Class 0\n",
            "Correct Prediction: Actual Class 1, Predicted Class 1\n",
            "Correct Prediction: Actual Class 2, Predicted Class 2\n",
            "Correct Prediction: Actual Class 1, Predicted Class 1\n",
            "Correct Prediction: Actual Class 1, Predicted Class 1\n",
            "Correct Prediction: Actual Class 2, Predicted Class 2\n",
            "Correct Prediction: Actual Class 0, Predicted Class 0\n",
            "Correct Prediction: Actual Class 0, Predicted Class 0\n",
            "Correct Prediction: Actual Class 0, Predicted Class 0\n",
            "Correct Prediction: Actual Class 0, Predicted Class 0\n",
            "Correct Prediction: Actual Class 1, Predicted Class 1\n",
            "Correct Prediction: Actual Class 2, Predicted Class 2\n",
            "Correct Prediction: Actual Class 1, Predicted Class 1\n",
            "Correct Prediction: Actual Class 1, Predicted Class 1\n",
            "Correct Prediction: Actual Class 2, Predicted Class 2\n",
            "Correct Prediction: Actual Class 0, Predicted Class 0\n",
            "Correct Prediction: Actual Class 2, Predicted Class 2\n",
            "Correct Prediction: Actual Class 0, Predicted Class 0\n",
            "Correct Prediction: Actual Class 2, Predicted Class 2\n",
            "Correct Prediction: Actual Class 2, Predicted Class 2\n",
            "Correct Prediction: Actual Class 2, Predicted Class 2\n",
            "Correct Prediction: Actual Class 2, Predicted Class 2\n",
            "Correct Prediction: Actual Class 2, Predicted Class 2\n",
            "Correct Prediction: Actual Class 0, Predicted Class 0\n",
            "Correct Prediction: Actual Class 0, Predicted Class 0\n",
            "Correct Prediction: Actual Class 0, Predicted Class 0\n",
            "Correct Prediction: Actual Class 0, Predicted Class 0\n",
            "Correct Prediction: Actual Class 1, Predicted Class 1\n",
            "Correct Prediction: Actual Class 0, Predicted Class 0\n",
            "Correct Prediction: Actual Class 0, Predicted Class 0\n",
            "Correct Prediction: Actual Class 2, Predicted Class 2\n",
            "Correct Prediction: Actual Class 1, Predicted Class 1\n",
            "Correct Prediction: Actual Class 0, Predicted Class 0\n",
            "Correct Prediction: Actual Class 0, Predicted Class 0\n",
            "Correct Prediction: Actual Class 0, Predicted Class 0\n",
            "Correct Prediction: Actual Class 2, Predicted Class 2\n",
            "Correct Prediction: Actual Class 1, Predicted Class 1\n",
            "Correct Prediction: Actual Class 1, Predicted Class 1\n",
            "Correct Prediction: Actual Class 0, Predicted Class 0\n",
            "Correct Prediction: Actual Class 0, Predicted Class 0\n",
            "\n",
            "Accuracy: 100.00%\n",
            "Correct Predictions: 45\n",
            "Wrong Predictions: 0\n"
          ]
        }
      ]
    }
  ]
}