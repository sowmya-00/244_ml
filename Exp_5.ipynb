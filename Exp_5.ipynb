{
  "nbformat": 4,
  "nbformat_minor": 0,
  "metadata": {
    "colab": {
      "provenance": []
    },
    "kernelspec": {
      "name": "python3",
      "display_name": "Python 3"
    },
    "language_info": {
      "name": "python"
    }
  },
  "cells": [
    {
      "cell_type": "code",
      "source": [
        "from pandas import read_csv\n",
        "from sklearn.model_selection import train_test_split\n",
        "from sklearn.linear_model import LinearRegression\n",
        "from mlxtend.evaluate import bias_variance_decomp\n",
        "# load dataset\n",
        "url = 'https://raw.githubusercontent.com/jbrownlee/Datasets/master/housing.csv'\n",
        "dataframe = read_csv(url, header=None)\n",
        "\n",
        "35\n",
        "\n",
        "# separate into inputs and outputs\n",
        "data = dataframe.values\n",
        "X, y = data[:, :-1], data[:, -1]\n",
        "# split the data\n",
        "X_train, X_test, y_train, y_test = train_test_split(X, y, test_size=0.33, random_state=1)\n",
        "# define the model\n",
        "model = LinearRegression()\n",
        "# estimate bias and variance\n",
        "mse, bias, var = bias_variance_decomp(model, X_train, y_train, X_test, y_test, loss='mse',\n",
        "num_rounds=200, random_seed=1)\n",
        "# summarize results\n",
        "print('MSE: %.3f' % mse)\n",
        "print('Bias: %.3f' % bias)\n",
        "print('Variance: %.3f' % var)"
      ],
      "metadata": {
        "colab": {
          "base_uri": "https://localhost:8080/"
        },
        "id": "1m7cloulH9A3",
        "outputId": "ae7dacc2-17a8-48e1-9f94-acbf3e983e26"
      },
      "execution_count": 5,
      "outputs": [
        {
          "output_type": "stream",
          "name": "stdout",
          "text": [
            "MSE: 22.418\n",
            "Bias: 20.744\n",
            "Variance: 1.674\n"
          ]
        }
      ]
    }
  ]
}