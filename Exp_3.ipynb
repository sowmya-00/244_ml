{
  "nbformat": 4,
  "nbformat_minor": 0,
  "metadata": {
    "colab": {
      "provenance": []
    },
    "kernelspec": {
      "name": "python3",
      "display_name": "Python 3"
    },
    "language_info": {
      "name": "python"
    }
  },
  "cells": [
    {
      "cell_type": "code",
      "source": [
        "import pandas as pd\n",
        "import math\n",
        "\n",
        "# Step 1: Load the dataset (simpledata.csv)\n",
        "# Assuming the CSV file 'simpledata.csv' is already saved in the current directory\n",
        "# You can change the file path as needed.\n",
        "df = pd.read_csv('/simpledata (1).csv')\n",
        "\n",
        "# Step 2: Function to calculate entropy\n",
        "def entropy(data):\n",
        "    class_counts = data['PlayTennis'].value_counts()\n",
        "    probabilities = class_counts / len(data)\n",
        "    return -sum(probabilities * probabilities.apply(lambda x: math.log2(x) if x > 0 else 0))\n",
        "\n",
        "# Step 3: Function to calculate information gain\n",
        "def information_gain(data, attribute):\n",
        "    total_entropy = entropy(data)\n",
        "    values = data[attribute].value_counts()\n",
        "\n",
        "    weighted_entropy = 0\n",
        "    for value, count in values.items():\n",
        "        subset = data[data[attribute] == value]\n",
        "        weighted_entropy += (count / len(data)) * entropy(subset)\n",
        "\n",
        "    return total_entropy - weighted_entropy\n",
        "\n",
        "# Step 4: Function to select the best attribute based on information gain\n",
        "def best_split(data):\n",
        "    attributes = data.columns[:-1]  # Excluding the target column 'PlayTennis'\n",
        "    gains = {attribute: information_gain(data, attribute) for attribute in attributes}\n",
        "    best_attribute = max(gains, key=gains.get)\n",
        "    return best_attribute\n",
        "\n",
        "# Step 5: Function to build the decision tree recursively\n",
        "def build_tree(data):\n",
        "    # If the dataset is pure (only one class), return the class\n",
        "    if len(data['PlayTennis'].unique()) == 1:\n",
        "        return data['PlayTennis'].iloc[0]\n",
        "\n",
        "    # If no attributes are left to split, return the majority class\n",
        "    if len(data.columns) == 1:  # No attributes left to split\n",
        "        return data['PlayTennis'].mode()[0]\n",
        "\n",
        "    # Otherwise, choose the best attribute to split on\n",
        "    best_attribute = best_split(data)\n",
        "    tree = {best_attribute: {}}\n",
        "\n",
        "    for value in data[best_attribute].unique():\n",
        "        subset = data[data[best_attribute] == value]\n",
        "        tree[best_attribute][value] = build_tree(subset.drop(columns=[best_attribute]))\n",
        "\n",
        "    return tree\n",
        "\n",
        "# Step 6: Function to classify a new sample using the decision tree\n",
        "def classify(tree, sample):\n",
        "    if isinstance(tree, dict):\n",
        "        attribute = list(tree.keys())[0]\n",
        "        value = sample[attribute]\n",
        "        return classify(tree[attribute].get(value), sample)\n",
        "    else:\n",
        "        return tree\n",
        "\n",
        "# Step 7: Build the decision tree using the dataset\n",
        "tree = build_tree(df)\n",
        "\n",
        "# Step 8: Print the decision tree\n",
        "print(\"Decision Tree:\")\n",
        "print(tree)\n",
        "\n",
        "# Step 9: Classify a new sample\n",
        "new_sample = {'Outlook': 'Sunny', 'Temperature': 'Cool', 'Humidity': 'Normal', 'Wind': 'Weak'}\n",
        "classification = classify(tree, new_sample)\n",
        "print(f\"\\nClassified as: {classification}\")"
      ],
      "metadata": {
        "colab": {
          "base_uri": "https://localhost:8080/"
        },
        "id": "eAcLTHUKKuZO",
        "outputId": "c60d16dd-ec61-47ef-c3b9-14105061bb97"
      },
      "execution_count": 11,
      "outputs": [
        {
          "output_type": "stream",
          "name": "stdout",
          "text": [
            "Decision Tree:\n",
            "{'Outlook': {'Sunny': 'No', 'Overcast': 'Yes', 'Rainy': {'Temperature': {'Mild': 'Yes', 'Cool': 'No'}}}}\n",
            "\n",
            "Classified as: No\n"
          ]
        }
      ]
    }
  ]
}